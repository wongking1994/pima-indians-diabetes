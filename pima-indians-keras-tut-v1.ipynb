{
 "cells": [
  {
   "cell_type": "markdown",
   "metadata": {},
   "source": [
    "## Set up and loading of data set"
   ]
  },
  {
   "cell_type": "code",
   "execution_count": 1,
   "metadata": {},
   "outputs": [
    {
     "name": "stderr",
     "output_type": "stream",
     "text": [
      "Using TensorFlow backend.\n"
     ]
    }
   ],
   "source": [
    "from keras.models import Sequential\n",
    "from keras.layers import Dense\n",
    "from sklearn.model_selection import train_test_split\n",
    "\n",
    "import numpy as np\n",
    "\n",
    "# Fix a random seed for reproducibility\n",
    "np.random.seed(7)"
   ]
  },
  {
   "cell_type": "code",
   "execution_count": 18,
   "metadata": {},
   "outputs": [],
   "source": [
    "# Load dataset\n",
    "dataset = np.loadtxt('pima-indians-diabets.csv', delimiter=',')\n",
    "\n",
    "# Split into input and output variables. \n",
    "# Read the meta data on how to decide cutoff.\n",
    "# Meta Data set says that first eight columns\n",
    "# are features and last column is output columns (0 or 1)\n",
    "X = dataset[:, 0:8] # Choose columns 1-8 and all rows.\n",
    "Y = dataset[:,8] # Choose column 9 and (python index start at zero)\n",
    "\n",
    "num_train = X.shape[0]\n",
    "input_dim = X.shape[1]\n",
    "Y.shape = (num_train, 1) # Always make the shapes explicit. Say no to (768,) type shapes."
   ]
  },
  {
   "cell_type": "code",
   "execution_count": 19,
   "metadata": {},
   "outputs": [
    {
     "data": {
      "text/plain": [
       "8"
      ]
     },
     "execution_count": 19,
     "metadata": {},
     "output_type": "execute_result"
    }
   ],
   "source": [
    "input_dim"
   ]
  },
  {
   "cell_type": "markdown",
   "metadata": {},
   "source": [
    "### Sanity Checks"
   ]
  },
  {
   "cell_type": "code",
   "execution_count": 20,
   "metadata": {},
   "outputs": [
    {
     "data": {
      "text/plain": [
       "numpy.ndarray"
      ]
     },
     "execution_count": 20,
     "metadata": {},
     "output_type": "execute_result"
    }
   ],
   "source": [
    "type(dataset)"
   ]
  },
  {
   "cell_type": "code",
   "execution_count": 21,
   "metadata": {},
   "outputs": [
    {
     "data": {
      "text/plain": [
       "(768, 9)"
      ]
     },
     "execution_count": 21,
     "metadata": {},
     "output_type": "execute_result"
    }
   ],
   "source": [
    "dataset.shape"
   ]
  },
  {
   "cell_type": "code",
   "execution_count": 22,
   "metadata": {},
   "outputs": [
    {
     "name": "stdout",
     "output_type": "stream",
     "text": [
      "(768, 8)\n"
     ]
    }
   ],
   "source": [
    "print(X.shape)"
   ]
  },
  {
   "cell_type": "code",
   "execution_count": 23,
   "metadata": {},
   "outputs": [
    {
     "name": "stdout",
     "output_type": "stream",
     "text": [
      "(768, 1)\n"
     ]
    }
   ],
   "source": [
    "print(Y.shape)"
   ]
  },
  {
   "cell_type": "markdown",
   "metadata": {},
   "source": [
    "### Split into Traning and Testing samples at random."
   ]
  },
  {
   "cell_type": "code",
   "execution_count": 24,
   "metadata": {},
   "outputs": [],
   "source": [
    "# split into two groups. Training and Testing.\n",
    "# Let's use the Scikit-learn library to do so \n",
    "# and let's choose this randomly at 80 : 20 %\n",
    "# cut offs.\n",
    "X_train, X_test, Y_train, Y_test = train_test_split(X, Y, \n",
    "                                                    test_size=0.20, \n",
    "                                                    random_state=42)"
   ]
  },
  {
   "cell_type": "markdown",
   "metadata": {},
   "source": [
    "### Sanity Check"
   ]
  },
  {
   "cell_type": "code",
   "execution_count": 9,
   "metadata": {},
   "outputs": [
    {
     "data": {
      "text/plain": [
       "(614, 8)"
      ]
     },
     "execution_count": 9,
     "metadata": {},
     "output_type": "execute_result"
    }
   ],
   "source": [
    "X_train.shape"
   ]
  },
  {
   "cell_type": "code",
   "execution_count": 10,
   "metadata": {},
   "outputs": [
    {
     "data": {
      "text/plain": [
       "(614, 1)"
      ]
     },
     "execution_count": 10,
     "metadata": {},
     "output_type": "execute_result"
    }
   ],
   "source": [
    "Y_train.shape"
   ]
  },
  {
   "cell_type": "code",
   "execution_count": 11,
   "metadata": {},
   "outputs": [
    {
     "data": {
      "text/plain": [
       "(154, 8)"
      ]
     },
     "execution_count": 11,
     "metadata": {},
     "output_type": "execute_result"
    }
   ],
   "source": [
    "X_test.shape"
   ]
  },
  {
   "cell_type": "code",
   "execution_count": 12,
   "metadata": {},
   "outputs": [
    {
     "data": {
      "text/plain": [
       "(154, 1)"
      ]
     },
     "execution_count": 12,
     "metadata": {},
     "output_type": "execute_result"
    }
   ],
   "source": [
    "Y_test.shape"
   ]
  },
  {
   "cell_type": "markdown",
   "metadata": {},
   "source": [
    "### How many layers to choose?\n",
    "\n",
    "### How many neurons to choose?. \n",
    "\n",
    "Trial and error. Experience/Intuition counts."
   ]
  },
  {
   "cell_type": "code",
   "execution_count": 13,
   "metadata": {},
   "outputs": [],
   "source": [
    "model = Sequential()\n",
    "\n",
    "# Activate the first layer. 8 inputs with 12 neaurons with relu.\n",
    "model.add(Dense(12, input_dim=8, activation='relu'))\n",
    "\n",
    "# Activate the second layer, 12 inputs with 8 neurons with relu.\n",
    "# Explicit input dim is redundant here for obvious reasons.\n",
    "model.add(Dense(8, activation='relu'))\n",
    "\n",
    "# # Add another layer and see how that turns out.\n",
    "# model.add(Dense(4, activation='relu'))\n",
    "## Adding more layers doesn't necessarily makes it better\n",
    "## Unfortunately.\n",
    "\n",
    "# Activate the output layer with a single neurons with sigmoid (because we need 0 or 1)\n",
    "model.add(Dense(1, activation='sigmoid'))"
   ]
  },
  {
   "cell_type": "markdown",
   "metadata": {},
   "source": [
    "### Compile model."
   ]
  },
  {
   "cell_type": "code",
   "execution_count": 14,
   "metadata": {
    "collapsed": true
   },
   "outputs": [],
   "source": [
    "# Compile model.\n",
    "model.compile(loss='binary_crossentropy',\n",
    "              optimizer='adam',\n",
    "              metrics=['accuracy'])"
   ]
  },
  {
   "cell_type": "markdown",
   "metadata": {},
   "source": [
    "### Fit the model\n",
    "\n",
    "* Terminology\n",
    "\n",
    " - epoch = number of iterations. \n",
    "\n",
    " - batch size = number of iterations before a weight update is performed.\n",
    "     (Traning examples are fed in batches. if batch_size = 10, feed 10 first\n",
    "     then feed the second 10 and so on...)"
   ]
  },
  {
   "cell_type": "code",
   "execution_count": 27,
   "metadata": {},
   "outputs": [
    {
     "name": "stdout",
     "output_type": "stream",
     "text": [
      "Epoch 1/150\n",
      "614/614 [==============================] - 0s - loss: 0.4366 - acc: 0.7980     \n",
      "Epoch 2/150\n",
      "614/614 [==============================] - 0s - loss: 0.4387 - acc: 0.7785     \n",
      "Epoch 3/150\n",
      "614/614 [==============================] - 0s - loss: 0.4524 - acc: 0.7883     \n",
      "Epoch 4/150\n",
      "614/614 [==============================] - 0s - loss: 0.4425 - acc: 0.7932     \n",
      "Epoch 5/150\n",
      "614/614 [==============================] - 0s - loss: 0.4364 - acc: 0.7948     \n",
      "Epoch 6/150\n",
      "614/614 [==============================] - 0s - loss: 0.4441 - acc: 0.7801     \n",
      "Epoch 7/150\n",
      "614/614 [==============================] - 0s - loss: 0.4461 - acc: 0.7883     \n",
      "Epoch 8/150\n",
      "614/614 [==============================] - 0s - loss: 0.4424 - acc: 0.7850     \n",
      "Epoch 9/150\n",
      "614/614 [==============================] - 0s - loss: 0.4627 - acc: 0.7687     \n",
      "Epoch 10/150\n",
      "614/614 [==============================] - 0s - loss: 0.4371 - acc: 0.8046     \n",
      "Epoch 11/150\n",
      "614/614 [==============================] - 0s - loss: 0.4377 - acc: 0.7883     \n",
      "Epoch 12/150\n",
      "614/614 [==============================] - 0s - loss: 0.4385 - acc: 0.7915     \n",
      "Epoch 13/150\n",
      "614/614 [==============================] - 0s - loss: 0.4392 - acc: 0.7752     \n",
      "Epoch 14/150\n",
      "614/614 [==============================] - 0s - loss: 0.4562 - acc: 0.7801     \n",
      "Epoch 15/150\n",
      "614/614 [==============================] - 0s - loss: 0.4454 - acc: 0.7899     \n",
      "Epoch 16/150\n",
      "614/614 [==============================] - 0s - loss: 0.4372 - acc: 0.7801     \n",
      "Epoch 17/150\n",
      "614/614 [==============================] - 0s - loss: 0.4472 - acc: 0.7964     \n",
      "Epoch 18/150\n",
      "614/614 [==============================] - 0s - loss: 0.4346 - acc: 0.7932     \n",
      "Epoch 19/150\n",
      "614/614 [==============================] - 0s - loss: 0.4497 - acc: 0.7850     \n",
      "Epoch 20/150\n",
      "614/614 [==============================] - 0s - loss: 0.4510 - acc: 0.7720     \n",
      "Epoch 21/150\n",
      "614/614 [==============================] - 0s - loss: 0.4282 - acc: 0.8111     \n",
      "Epoch 22/150\n",
      "614/614 [==============================] - 0s - loss: 0.4295 - acc: 0.7997     \n",
      "Epoch 23/150\n",
      "614/614 [==============================] - 0s - loss: 0.4374 - acc: 0.7801     \n",
      "Epoch 24/150\n",
      "614/614 [==============================] - 0s - loss: 0.4340 - acc: 0.7850     \n",
      "Epoch 25/150\n",
      "614/614 [==============================] - 0s - loss: 0.4375 - acc: 0.7915     \n",
      "Epoch 26/150\n",
      "614/614 [==============================] - 0s - loss: 0.4626 - acc: 0.7818     \n",
      "Epoch 27/150\n",
      "614/614 [==============================] - 0s - loss: 0.4539 - acc: 0.7818     \n",
      "Epoch 28/150\n",
      "614/614 [==============================] - 0s - loss: 0.4297 - acc: 0.8046     \n",
      "Epoch 29/150\n",
      "614/614 [==============================] - 0s - loss: 0.4345 - acc: 0.7899     \n",
      "Epoch 30/150\n",
      "614/614 [==============================] - 0s - loss: 0.4361 - acc: 0.7932     \n",
      "Epoch 31/150\n",
      "614/614 [==============================] - 0s - loss: 0.4633 - acc: 0.7850     \n",
      "Epoch 32/150\n",
      "614/614 [==============================] - 0s - loss: 0.4560 - acc: 0.7801     \n",
      "Epoch 33/150\n",
      "614/614 [==============================] - 0s - loss: 0.4319 - acc: 0.7866     \n",
      "Epoch 34/150\n",
      "614/614 [==============================] - 0s - loss: 0.4364 - acc: 0.7948     \n",
      "Epoch 35/150\n",
      "614/614 [==============================] - 0s - loss: 0.4409 - acc: 0.7834     \n",
      "Epoch 36/150\n",
      "614/614 [==============================] - 0s - loss: 0.4427 - acc: 0.7850     \n",
      "Epoch 37/150\n",
      "614/614 [==============================] - 0s - loss: 0.4391 - acc: 0.7866     \n",
      "Epoch 38/150\n",
      "614/614 [==============================] - 0s - loss: 0.4313 - acc: 0.7997     \n",
      "Epoch 39/150\n",
      "614/614 [==============================] - 0s - loss: 0.4469 - acc: 0.7899     \n",
      "Epoch 40/150\n",
      "614/614 [==============================] - 0s - loss: 0.4280 - acc: 0.7964     \n",
      "Epoch 41/150\n",
      "614/614 [==============================] - 0s - loss: 0.4440 - acc: 0.7899     \n",
      "Epoch 42/150\n",
      "614/614 [==============================] - 0s - loss: 0.4260 - acc: 0.7932     \n",
      "Epoch 43/150\n",
      "614/614 [==============================] - 0s - loss: 0.4355 - acc: 0.7964     \n",
      "Epoch 44/150\n",
      "614/614 [==============================] - 0s - loss: 0.4365 - acc: 0.8029     \n",
      "Epoch 45/150\n",
      "614/614 [==============================] - 0s - loss: 0.4363 - acc: 0.7997     \n",
      "Epoch 46/150\n",
      "614/614 [==============================] - 0s - loss: 0.4333 - acc: 0.7980     \n",
      "Epoch 47/150\n",
      "614/614 [==============================] - 0s - loss: 0.4353 - acc: 0.7899     \n",
      "Epoch 48/150\n",
      "614/614 [==============================] - 0s - loss: 0.4326 - acc: 0.7818     \n",
      "Epoch 49/150\n",
      "614/614 [==============================] - 0s - loss: 0.4321 - acc: 0.7997     \n",
      "Epoch 50/150\n",
      "614/614 [==============================] - 0s - loss: 0.4393 - acc: 0.7948     \n",
      "Epoch 51/150\n",
      "614/614 [==============================] - 0s - loss: 0.4280 - acc: 0.7932     \n",
      "Epoch 52/150\n",
      "614/614 [==============================] - 0s - loss: 0.4337 - acc: 0.7948     \n",
      "Epoch 53/150\n",
      "614/614 [==============================] - 0s - loss: 0.4303 - acc: 0.7948     \n",
      "Epoch 54/150\n",
      "614/614 [==============================] - 0s - loss: 0.4375 - acc: 0.7980     \n",
      "Epoch 55/150\n",
      "614/614 [==============================] - 0s - loss: 0.4241 - acc: 0.7915     \n",
      "Epoch 56/150\n",
      "614/614 [==============================] - 0s - loss: 0.4293 - acc: 0.7899     \n",
      "Epoch 57/150\n",
      "614/614 [==============================] - 0s - loss: 0.4312 - acc: 0.7915     \n",
      "Epoch 58/150\n",
      "614/614 [==============================] - 0s - loss: 0.4406 - acc: 0.7818     \n",
      "Epoch 59/150\n",
      "614/614 [==============================] - 0s - loss: 0.4328 - acc: 0.7964     \n",
      "Epoch 60/150\n",
      "614/614 [==============================] - 0s - loss: 0.4435 - acc: 0.7818     \n",
      "Epoch 61/150\n",
      "614/614 [==============================] - 0s - loss: 0.4454 - acc: 0.7785     \n",
      "Epoch 62/150\n",
      "614/614 [==============================] - 0s - loss: 0.4359 - acc: 0.7964     \n",
      "Epoch 63/150\n",
      "614/614 [==============================] - 0s - loss: 0.4464 - acc: 0.7883     \n",
      "Epoch 64/150\n",
      "614/614 [==============================] - 0s - loss: 0.4288 - acc: 0.7948     \n",
      "Epoch 65/150\n",
      "614/614 [==============================] - 0s - loss: 0.4384 - acc: 0.8078     \n",
      "Epoch 66/150\n",
      "614/614 [==============================] - 0s - loss: 0.4636 - acc: 0.7834     \n",
      "Epoch 67/150\n",
      "614/614 [==============================] - 0s - loss: 0.4317 - acc: 0.7834     \n",
      "Epoch 68/150\n",
      "614/614 [==============================] - 0s - loss: 0.4328 - acc: 0.7997     \n",
      "Epoch 69/150\n",
      "614/614 [==============================] - 0s - loss: 0.4448 - acc: 0.7980     \n",
      "Epoch 70/150\n",
      "614/614 [==============================] - 0s - loss: 0.4293 - acc: 0.8062     \n",
      "Epoch 71/150\n",
      "614/614 [==============================] - 0s - loss: 0.4427 - acc: 0.7866     \n",
      "Epoch 72/150\n",
      "614/614 [==============================] - 0s - loss: 0.4368 - acc: 0.7883     \n",
      "Epoch 73/150\n",
      "614/614 [==============================] - 0s - loss: 0.4293 - acc: 0.7964     \n",
      "Epoch 74/150\n",
      "614/614 [==============================] - 0s - loss: 0.4365 - acc: 0.7964     \n",
      "Epoch 75/150\n",
      "614/614 [==============================] - 0s - loss: 0.4347 - acc: 0.7980     \n",
      "Epoch 76/150\n",
      "614/614 [==============================] - 0s - loss: 0.4270 - acc: 0.7915     \n",
      "Epoch 77/150\n",
      "614/614 [==============================] - 0s - loss: 0.4342 - acc: 0.7932     \n",
      "Epoch 78/150\n",
      "614/614 [==============================] - 0s - loss: 0.4157 - acc: 0.8078     \n",
      "Epoch 79/150\n",
      "614/614 [==============================] - 0s - loss: 0.4315 - acc: 0.7850     \n",
      "Epoch 80/150\n",
      "614/614 [==============================] - 0s - loss: 0.4250 - acc: 0.7866     \n",
      "Epoch 81/150\n",
      "614/614 [==============================] - 0s - loss: 0.4264 - acc: 0.7980     \n",
      "Epoch 82/150\n",
      "614/614 [==============================] - 0s - loss: 0.4260 - acc: 0.7883     \n",
      "Epoch 83/150\n",
      "614/614 [==============================] - 0s - loss: 0.4586 - acc: 0.7752     \n",
      "Epoch 84/150\n",
      "614/614 [==============================] - 0s - loss: 0.4275 - acc: 0.7899     \n",
      "Epoch 85/150\n",
      "614/614 [==============================] - 0s - loss: 0.4299 - acc: 0.7948     \n",
      "Epoch 86/150\n",
      "614/614 [==============================] - 0s - loss: 0.4343 - acc: 0.7899     \n",
      "Epoch 87/150\n",
      "614/614 [==============================] - 0s - loss: 0.4280 - acc: 0.8029     \n",
      "Epoch 88/150\n",
      "614/614 [==============================] - 0s - loss: 0.4264 - acc: 0.7980     \n",
      "Epoch 89/150\n"
     ]
    },
    {
     "name": "stdout",
     "output_type": "stream",
     "text": [
      "614/614 [==============================] - 0s - loss: 0.4307 - acc: 0.8029     \n",
      "Epoch 90/150\n",
      "614/614 [==============================] - 0s - loss: 0.4238 - acc: 0.7980     \n",
      "Epoch 91/150\n",
      "614/614 [==============================] - 0s - loss: 0.4220 - acc: 0.8062     \n",
      "Epoch 92/150\n",
      "614/614 [==============================] - 0s - loss: 0.4285 - acc: 0.7964     \n",
      "Epoch 93/150\n",
      "614/614 [==============================] - 0s - loss: 0.4315 - acc: 0.7899     \n",
      "Epoch 94/150\n",
      "614/614 [==============================] - 0s - loss: 0.4303 - acc: 0.7850     \n",
      "Epoch 95/150\n",
      "614/614 [==============================] - 0s - loss: 0.4350 - acc: 0.7948     \n",
      "Epoch 96/150\n",
      "614/614 [==============================] - 0s - loss: 0.4430 - acc: 0.7818     \n",
      "Epoch 97/150\n",
      "614/614 [==============================] - 0s - loss: 0.4282 - acc: 0.7899     \n",
      "Epoch 98/150\n",
      "614/614 [==============================] - 0s - loss: 0.4544 - acc: 0.7818     \n",
      "Epoch 99/150\n",
      "614/614 [==============================] - 0s - loss: 0.4371 - acc: 0.7915     \n",
      "Epoch 100/150\n",
      "614/614 [==============================] - 0s - loss: 0.4211 - acc: 0.7980     \n",
      "Epoch 101/150\n",
      "614/614 [==============================] - 0s - loss: 0.4274 - acc: 0.7932     \n",
      "Epoch 102/150\n",
      "614/614 [==============================] - 0s - loss: 0.4301 - acc: 0.8111     \n",
      "Epoch 103/150\n",
      "614/614 [==============================] - 0s - loss: 0.4365 - acc: 0.7834     \n",
      "Epoch 104/150\n",
      "614/614 [==============================] - 0s - loss: 0.4345 - acc: 0.8046     \n",
      "Epoch 105/150\n",
      "614/614 [==============================] - 0s - loss: 0.4207 - acc: 0.7964     \n",
      "Epoch 106/150\n",
      "614/614 [==============================] - 0s - loss: 0.4303 - acc: 0.7997     \n",
      "Epoch 107/150\n",
      "614/614 [==============================] - 0s - loss: 0.4288 - acc: 0.7818     \n",
      "Epoch 108/150\n",
      "614/614 [==============================] - 0s - loss: 0.4312 - acc: 0.7834     \n",
      "Epoch 109/150\n",
      "614/614 [==============================] - 0s - loss: 0.4188 - acc: 0.8013     \n",
      "Epoch 110/150\n",
      "614/614 [==============================] - 0s - loss: 0.4230 - acc: 0.7964     \n",
      "Epoch 111/150\n",
      "614/614 [==============================] - 0s - loss: 0.4240 - acc: 0.8013     \n",
      "Epoch 112/150\n",
      "614/614 [==============================] - 0s - loss: 0.4359 - acc: 0.7883     \n",
      "Epoch 113/150\n",
      "614/614 [==============================] - 0s - loss: 0.4393 - acc: 0.7948     \n",
      "Epoch 114/150\n",
      "614/614 [==============================] - 0s - loss: 0.4291 - acc: 0.7964     - ETA: 0s - loss: 0.4358 - acc: 0.793\n",
      "Epoch 115/150\n",
      "614/614 [==============================] - 0s - loss: 0.4183 - acc: 0.7899     \n",
      "Epoch 116/150\n",
      "614/614 [==============================] - 0s - loss: 0.4222 - acc: 0.8094     \n",
      "Epoch 117/150\n",
      "614/614 [==============================] - 0s - loss: 0.4262 - acc: 0.7980     \n",
      "Epoch 118/150\n",
      "614/614 [==============================] - 0s - loss: 0.4393 - acc: 0.7801     \n",
      "Epoch 119/150\n",
      "614/614 [==============================] - 0s - loss: 0.4466 - acc: 0.7785     \n",
      "Epoch 120/150\n",
      "614/614 [==============================] - 0s - loss: 0.4455 - acc: 0.7883     \n",
      "Epoch 121/150\n",
      "614/614 [==============================] - 0s - loss: 0.4329 - acc: 0.8013     \n",
      "Epoch 122/150\n",
      "614/614 [==============================] - 0s - loss: 0.4274 - acc: 0.7899     \n",
      "Epoch 123/150\n",
      "614/614 [==============================] - 0s - loss: 0.4230 - acc: 0.8046     \n",
      "Epoch 124/150\n",
      "614/614 [==============================] - 0s - loss: 0.4204 - acc: 0.8062     \n",
      "Epoch 125/150\n",
      "614/614 [==============================] - 0s - loss: 0.4296 - acc: 0.7899     \n",
      "Epoch 126/150\n",
      "614/614 [==============================] - 0s - loss: 0.4260 - acc: 0.7964     \n",
      "Epoch 127/150\n",
      "614/614 [==============================] - 0s - loss: 0.4215 - acc: 0.7915     \n",
      "Epoch 128/150\n",
      "614/614 [==============================] - 0s - loss: 0.4450 - acc: 0.7736     \n",
      "Epoch 129/150\n",
      "614/614 [==============================] - 0s - loss: 0.4157 - acc: 0.8062     \n",
      "Epoch 130/150\n",
      "614/614 [==============================] - 0s - loss: 0.4247 - acc: 0.7997     - ETA: 0s - loss: 0.3782 - acc: 0.85\n",
      "Epoch 131/150\n",
      "614/614 [==============================] - 0s - loss: 0.4267 - acc: 0.7883     \n",
      "Epoch 132/150\n",
      "614/614 [==============================] - 0s - loss: 0.4211 - acc: 0.7915     \n",
      "Epoch 133/150\n",
      "614/614 [==============================] - 0s - loss: 0.4266 - acc: 0.8046     \n",
      "Epoch 134/150\n",
      "614/614 [==============================] - 0s - loss: 0.4242 - acc: 0.7964     \n",
      "Epoch 135/150\n",
      "614/614 [==============================] - 0s - loss: 0.4180 - acc: 0.8046     \n",
      "Epoch 136/150\n",
      "614/614 [==============================] - 0s - loss: 0.4215 - acc: 0.8062     \n",
      "Epoch 137/150\n",
      "614/614 [==============================] - 0s - loss: 0.4381 - acc: 0.7801     \n",
      "Epoch 138/150\n",
      "614/614 [==============================] - 0s - loss: 0.4468 - acc: 0.7932     \n",
      "Epoch 139/150\n",
      "614/614 [==============================] - 0s - loss: 0.4325 - acc: 0.7948     \n",
      "Epoch 140/150\n",
      "614/614 [==============================] - 0s - loss: 0.4148 - acc: 0.8029     \n",
      "Epoch 141/150\n",
      "614/614 [==============================] - 0s - loss: 0.4223 - acc: 0.8176     \n",
      "Epoch 142/150\n",
      "614/614 [==============================] - 0s - loss: 0.4283 - acc: 0.7932     \n",
      "Epoch 143/150\n",
      "614/614 [==============================] - 0s - loss: 0.4443 - acc: 0.7801     \n",
      "Epoch 144/150\n",
      "614/614 [==============================] - 0s - loss: 0.4199 - acc: 0.8192     \n",
      "Epoch 145/150\n",
      "614/614 [==============================] - 0s - loss: 0.4313 - acc: 0.7866     \n",
      "Epoch 146/150\n",
      "614/614 [==============================] - 0s - loss: 0.4302 - acc: 0.7834     \n",
      "Epoch 147/150\n",
      "614/614 [==============================] - 0s - loss: 0.4204 - acc: 0.7915     \n",
      "Epoch 148/150\n",
      "614/614 [==============================] - 0s - loss: 0.4182 - acc: 0.7932     \n",
      "Epoch 149/150\n",
      "614/614 [==============================] - 0s - loss: 0.4244 - acc: 0.7834     \n",
      "Epoch 150/150\n",
      "614/614 [==============================] - 0s - loss: 0.4225 - acc: 0.7932     \n"
     ]
    },
    {
     "data": {
      "text/plain": [
       "<keras.callbacks.History at 0xa2f5cfa20>"
      ]
     },
     "execution_count": 27,
     "metadata": {},
     "output_type": "execute_result"
    }
   ],
   "source": [
    "# Fit model\n",
    "model.fit(X_train, Y_train, batch_size=20, epochs=150, verbose=1)"
   ]
  },
  {
   "cell_type": "markdown",
   "metadata": {},
   "source": [
    "## Evaluate model on the  test data set.\n",
    "In here for simplicity we evaluate on the whole data set. But\n",
    "in practice one splits the data set into training and testing.\n",
    "Then proceed to train the model using the trining data and once\n",
    "we have a model we check the accuracy of the model using the test\n",
    "data. A good a split is about $8 : 2$ where $8$ Units training and $2$ units\n",
    "testing. But then again, this will need to be adjusted to taste."
   ]
  },
  {
   "cell_type": "code",
   "execution_count": 26,
   "metadata": {
    "scrolled": false
   },
   "outputs": [
    {
     "name": "stdout",
     "output_type": "stream",
     "text": [
      " 32/154 [=====>........................] - ETA: 0s\n",
      "acc: 71.43%\n"
     ]
    }
   ],
   "source": [
    "scores = model.evaluate(X_test, Y_test, batch_size=32, verbose=1)\n",
    "print(\"\\n%s: %.2f%%\" % (model.metrics_names[1], scores[1]*100))"
   ]
  },
  {
   "cell_type": "markdown",
   "metadata": {},
   "source": [
    "$75.97\\%$ accuracy for a unseen data in a  toy project without any regularization or hyper parameter tuning is pretty good."
   ]
  }
 ],
 "metadata": {
  "kernelspec": {
   "display_name": "Py(pima-indians)",
   "language": "python",
   "name": "pima-indians"
  },
  "language_info": {
   "codemirror_mode": {
    "name": "ipython",
    "version": 3
   },
   "file_extension": ".py",
   "mimetype": "text/x-python",
   "name": "python",
   "nbconvert_exporter": "python",
   "pygments_lexer": "ipython3",
   "version": "3.6.3"
  },
  "latex_envs": {
   "LaTeX_envs_menu_present": true,
   "autocomplete": true,
   "bibliofile": "biblio.bib",
   "cite_by": "apalike",
   "current_citInitial": 1,
   "eqLabelWithNumbers": true,
   "eqNumInitial": 1,
   "hotkeys": {
    "equation": "Ctrl-E",
    "itemize": "Ctrl-I"
   },
   "labels_anchors": false,
   "latex_user_defs": false,
   "report_style_numbering": false,
   "user_envs_cfg": false
  },
  "toc": {
   "colors": {
    "hover_highlight": "#DAA520",
    "navigate_num": "#000000",
    "navigate_text": "#333333",
    "running_highlight": "#FF0000",
    "selected_highlight": "#FFD700",
    "sidebar_border": "#EEEEEE",
    "wrapper_background": "#FFFFFF"
   },
   "moveMenuLeft": true,
   "nav_menu": {
    "height": "120px",
    "width": "252px"
   },
   "navigate_menu": true,
   "number_sections": true,
   "sideBar": true,
   "threshold": 4,
   "toc_cell": false,
   "toc_section_display": "block",
   "toc_window_display": false,
   "widenNotebook": false
  }
 },
 "nbformat": 4,
 "nbformat_minor": 2
}
